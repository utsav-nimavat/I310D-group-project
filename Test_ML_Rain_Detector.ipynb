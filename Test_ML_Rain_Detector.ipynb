{
 "cells": [
  {
   "cell_type": "markdown",
   "id": "b0fcfd50",
   "metadata": {},
   "source": [
    "# Test ML Rain detector\n",
    "\n",
    "The purpose of this program is to read austin weather data and use binary classification machine learning to predict if rain will occur."
   ]
  },
  {
   "cell_type": "markdown",
   "id": "944b8be4",
   "metadata": {},
   "source": [
    "## ETL\n",
    "\n",
    "**1. Extract**\n",
    "\n",
    "We converted the .csv file of weather data into a pandas dataframe. This will make it easier to transform the data.\n",
    "\n",
    "**2. Transform**\n",
    "\n",
    "Next, another column called 'Outcome' was added to the dataframe. This column was added to aid the binary classification ML algorithms. Every row was iterated through and checked to see if the 'Events' column detailing the weather events for that day told of rain. If so, 'Outcome' was set to 1 (True), and if not, it was set to 0 (False).\n",
    "\n",
    "Additionally, all rows with '-' representing incomplete data were dropped. We then split the dataset into a training set by which the ML algorithm would be trained on, and a testing set which would be the benchmark for how accurate our data was. The training set included the first 1000 rows of data, and the testing set had the remaining (218) rows. They were then exported to .csv files\n",
    "\n",
    "**3. Load**\n",
    "\n",
    "In the second codeblock, the .csv files were loaded as testing and training dataframe. We selected all the attributes of the original dataset (barring precipitation due to incomplete data) to train the algorithm on."
   ]
  },
  {
   "cell_type": "code",
   "execution_count": 123,
   "id": "861184b5",
   "metadata": {},
   "outputs": [],
   "source": [
    "import pandas as pd\n",
    "\n",
    "weather = pd.read_csv('austin_weather.csv')\n",
    "\n",
    "#Add a new column called outcome.\n",
    "#Outcome is set to 1 if there was rain for the selected date, and 0 if not.\n",
    "#Used for binary classification.\n",
    "weather['Outcome'] = \"\"\n",
    "for column in range(len(weather['Events'])):\n",
    "    if 'Rain' in weather['Events'][column]:\n",
    "        weather.loc[column, \"Outcome\"] = 1\n",
    "    else:\n",
    "        weather.loc[column, \"Outcome\"] = 0\n",
    "\n",
    "#Drops all rows with insufficient data (rows that have a \"-\").\n",
    "#These rows break the ML learning algorithm and have to be removed.\n",
    "for column in weather:\n",
    "    weather = weather[~weather[column].isin(['-'])]\n",
    "\n",
    "#weather = weather.loc[:,[\"TempHighF\", \"TempAvgF\", \"TempLowF\", \"WindHighMPH\", \"WindAvgMPH\", \"WindGustMPH\", \"Events\", \"Outcome\"]]\n",
    "\n",
    "train = weather.loc[0:1000, :]\n",
    "test = weather.loc[1001:, :]\n",
    "\n",
    "#train.to_csv('weather_train.csv')\n",
    "#test.to_csv('weather_test.csv')"
   ]
  },
  {
   "cell_type": "markdown",
   "id": "a94298a6",
   "metadata": {},
   "source": [
    "## Training our ML algorithm\n",
    "\n",
    "With the training and testing datasets loaded, we imported sklearn and began to train the ML algorithm using Logistic and MLP classification. We found that our logistic classifier was 87% accurate, while our MLP classifier was 85.8% accurate."
   ]
  },
  {
   "cell_type": "code",
   "execution_count": 124,
   "id": "9325ee7c",
   "metadata": {},
   "outputs": [
    {
     "name": "stdout",
     "output_type": "stream",
     "text": [
      "Models trained successfully...\n",
      "Accuracy of the Logistic Classifier on test data= 0.870253164556962\n",
      "Accuracy of the MLP Classifier on test data = 0.8575949367088608\n"
     ]
    }
   ],
   "source": [
    "from sklearn.linear_model import LogisticRegression\n",
    "from sklearn.neural_network import MLPClassifier\n",
    "from sklearn.metrics import accuracy_score\n",
    "\n",
    "\n",
    "train_df = pd.read_csv(\"weather_train.csv\")\n",
    "train_features = train_df[[\"TempHighF\", \"TempAvgF\", \"TempLowF\", \"DewPointHighF\", \"DewPointAvgF\", \"DewPointLowF\", \"HumidityHighPercent\", \"HumidityAvgPercent\", \"HumidityLowPercent\", \"SeaLevelPressureHighInches\", \"SeaLevelPressureAvgInches\", \"SeaLevelPressureLowInches\", \"VisibilityHighMiles\", \"VisibilityAvgMiles\", \"VisibilityLowMiles\", \"WindHighMPH\", \"WindAvgMPH\", \"WindGustMPH\"]]\n",
    "\n",
    "train_labels = train_df[\"Outcome\"]\n",
    "\n",
    "# Now let's define our models\n",
    "lr_classifier = LogisticRegression(solver='lbfgs',max_iter=10000)\n",
    "mlp_classifier = MLPClassifier(solver='lbfgs', alpha=1e-5,\n",
    "                               hidden_layer_sizes=(8, 2), random_state=11,max_iter=10000)\n",
    "\n",
    "# train our models\n",
    "lr_classifier.fit(train_features.to_numpy(),train_labels.to_numpy())\n",
    "mlp_classifier.fit(train_features.to_numpy(),train_labels.to_numpy())\n",
    "\n",
    "print (\"Models trained successfully...\")\n",
    "\n",
    "#load test data\n",
    "test_df = pd.read_csv(\"weather_test.csv\")\n",
    "\n",
    "# Extract the input features\n",
    "test_inputs = test_df[[\"TempHighF\", \"TempAvgF\", \"TempLowF\", \"DewPointHighF\", \"DewPointAvgF\", \"DewPointLowF\", \"HumidityHighPercent\", \"HumidityAvgPercent\", \"HumidityLowPercent\", \"SeaLevelPressureHighInches\", \"SeaLevelPressureAvgInches\", \"SeaLevelPressureLowInches\", \"VisibilityHighMiles\", \"VisibilityAvgMiles\", \"VisibilityLowMiles\", \"WindHighMPH\", \"WindAvgMPH\", \"WindGustMPH\"]]\n",
    "y_actual = test_df[\"Outcome\"]\n",
    "\n",
    "# predict using logistic regression model\n",
    "y_predicted_lr = lr_classifier.predict(test_inputs.to_numpy())\n",
    "lr_accuracy_score = accuracy_score(y_predicted_lr,y_actual)\n",
    "\n",
    "# predict using logistic regression model\n",
    "y_predicted_mlp = mlp_classifier.predict(test_inputs.to_numpy())\n",
    "mlp_accuracy_score = accuracy_score(y_predicted_mlp,y_actual)\n",
    "\n",
    "print (f\"Accuracy of the Logistic Classifier on test data= {lr_accuracy_score}\")\n",
    "print (f\"Accuracy of the MLP Classifier on test data = {mlp_accuracy_score}\")"
   ]
  },
  {
   "cell_type": "code",
   "execution_count": null,
   "id": "d0e60abc",
   "metadata": {},
   "outputs": [],
   "source": []
  }
 ],
 "metadata": {
  "kernelspec": {
   "display_name": "Python 3 (ipykernel)",
   "language": "python",
   "name": "python3"
  },
  "language_info": {
   "codemirror_mode": {
    "name": "ipython",
    "version": 3
   },
   "file_extension": ".py",
   "mimetype": "text/x-python",
   "name": "python",
   "nbconvert_exporter": "python",
   "pygments_lexer": "ipython3",
   "version": "3.8.8"
  }
 },
 "nbformat": 4,
 "nbformat_minor": 5
}
